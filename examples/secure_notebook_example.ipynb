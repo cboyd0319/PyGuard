{
 "cells": [
  {
   "cell_type": "markdown",
   "id": "7fb27b941602401d91542211134fc71a",
   "metadata": {},
   "source": [
    "# Secure Jupyter Notebook Best Practices\n",
    "\n",
    "This notebook demonstrates security best practices for Jupyter notebooks, showing how to avoid common vulnerabilities."
   ]
  },
  {
   "cell_type": "markdown",
   "id": "acae54e37e7d407bbb7b55eff062a284",
   "metadata": {},
   "source": [
    "## 1. Secure Credential Management\n",
    "\n",
    "✅ **GOOD**: Use environment variables for secrets"
   ]
  },
  {
   "cell_type": "code",
   "execution_count": null,
   "id": "9a63283cbaf04dbcab1f6479b197f3a8",
   "metadata": {},
   "outputs": [],
   "source": [
    "import os\n",
    "\n",
    "from dotenv import load_dotenv\n",
    "\n",
    "# Load environment variables from .env file\n",
    "load_dotenv()\n",
    "\n",
    "# Retrieve credentials securely\n",
    "api_key = os.getenv(\"API_KEY\")\n",
    "database_url = os.getenv(\"DATABASE_URL\")\n",
    "\n",
    "if not api_key:\n",
    "    raise ValueError(\"API_KEY not found in environment variables\")"
   ]
  },
  {
   "cell_type": "markdown",
   "id": "8dd0d8092fe74a7c96281538738b07e2",
   "metadata": {},
   "source": [
    "## 2. Safe Data Loading with Validation\n",
    "\n",
    "✅ **GOOD**: Validate data types and schemas"
   ]
  },
  {
   "cell_type": "code",
   "execution_count": null,
   "id": "72eea5119410473aa328ad9291626812",
   "metadata": {},
   "outputs": [],
   "source": [
    "import pandas as pd\n",
    "\n",
    "# Specify expected data types\n",
    "dtype_spec = {\"id\": \"int64\", \"name\": \"string\", \"age\": \"int64\", \"score\": \"float64\"}\n",
    "\n",
    "# Load data with type validation\n",
    "df = pd.read_csv(\"data.csv\", dtype=dtype_spec)\n",
    "\n",
    "# Additional validation\n",
    "assert df[\"age\"].min() >= 0, \"Age cannot be negative\"\n",
    "assert df[\"age\"].max() <= 120, \"Age seems unrealistic\""
   ]
  },
  {
   "cell_type": "markdown",
   "id": "8edb47106e1a46a883d545849b8ab81b",
   "metadata": {},
   "source": [
    "## 3. Secure Model Loading\n",
    "\n",
    "✅ **GOOD**: Verify model integrity before loading"
   ]
  },
  {
   "cell_type": "code",
   "execution_count": null,
   "id": "10185d26023b46108eb7d9f57d49d2b3",
   "metadata": {},
   "outputs": [],
   "source": [
    "import hashlib\n",
    "\n",
    "import torch\n",
    "\n",
    "# Known good checksum (from trusted source)\n",
    "EXPECTED_CHECKSUM = \"abc123...\"  # Replace with actual checksum\n",
    "\n",
    "\n",
    "def verify_model_integrity(model_path: str, expected_checksum: str) -> bool:\n",
    "    \"\"\"Verify model file integrity using SHA-256 checksum.\"\"\"\n",
    "    with open(model_path, \"rb\") as f:\n",
    "        file_hash = hashlib.sha256(f.read()).hexdigest()\n",
    "    return file_hash == expected_checksum\n",
    "\n",
    "\n",
    "# Verify before loading\n",
    "model_path = \"model.pth\"\n",
    "if verify_model_integrity(model_path, EXPECTED_CHECKSUM):\n",
    "    model = torch.load(model_path)\n",
    "else:\n",
    "    raise ValueError(\"Model integrity check failed - possible tampering\")"
   ]
  },
  {
   "cell_type": "markdown",
   "id": "8763a12b2bbd4a93a75aff182afb95dc",
   "metadata": {},
   "source": [
    "## 4. Safe Command Execution\n",
    "\n",
    "✅ **GOOD**: Use subprocess with argument lists (shell=False)"
   ]
  },
  {
   "cell_type": "code",
   "execution_count": null,
   "id": "7623eae2785240b9bd12b16a66d81610",
   "metadata": {},
   "outputs": [],
   "source": [
    "from pathlib import Path\n",
    "import subprocess\n",
    "\n",
    "\n",
    "def safe_file_operation(filename: str) -> str:\n",
    "    \"\"\"Safely read a file using validated paths.\"\"\"\n",
    "    # Validate filename (no path traversal)\n",
    "    safe_filename = Path(filename).name\n",
    "    safe_path = Path(\"/safe/directory\") / safe_filename\n",
    "\n",
    "    # Use subprocess with argument list (not shell)\n",
    "    result = subprocess.run(\n",
    "        [\"cat\", str(safe_path)], shell=False, capture_output=True, text=True, check=True\n",
    "    )\n",
    "\n",
    "    return result.stdout\n",
    "\n",
    "\n",
    "# Usage\n",
    "# content = safe_file_operation('data.txt')"
   ]
  },
  {
   "cell_type": "markdown",
   "id": "7cdc8c89c7104fffa095e18ddfef8986",
   "metadata": {},
   "source": [
    "## 5. Safe HTML Display\n",
    "\n",
    "✅ **GOOD**: Escape user input before HTML display"
   ]
  },
  {
   "cell_type": "code",
   "execution_count": null,
   "id": "b118ea5561624da68c537baed56e602f",
   "metadata": {},
   "outputs": [],
   "source": [
    "import html\n",
    "\n",
    "from IPython.display import HTML, Text\n",
    "\n",
    "\n",
    "def safe_html_display(user_input: str):\n",
    "    \"\"\"Safely display user input in HTML by escaping special characters.\"\"\"\n",
    "    escaped_input = html.escape(user_input)\n",
    "    return HTML(f\"<p>{escaped_input}</p>\")\n",
    "\n",
    "\n",
    "# For untrusted content, prefer Text display\n",
    "def display_untrusted(content: str):\n",
    "    \"\"\"Display untrusted content safely without HTML rendering.\"\"\"\n",
    "    return Text(content)\n",
    "\n",
    "\n",
    "# Usage\n",
    "# user_input = \"<script>alert('xss')</script>\"\n",
    "# safe_html_display(user_input)  # Escapes HTML\n",
    "# display_untrusted(user_input)   # No HTML rendering"
   ]
  },
  {
   "cell_type": "markdown",
   "id": "938c804e27f84196a10c8828c723f798",
   "metadata": {},
   "source": [
    "## 6. PII Protection\n",
    "\n",
    "✅ **GOOD**: Use placeholder values and never commit real PII"
   ]
  },
  {
   "cell_type": "code",
   "execution_count": null,
   "id": "504fb2a444614c0babb325280ed9130a",
   "metadata": {},
   "outputs": [],
   "source": [
    "# Use placeholders for examples\n",
    "EXAMPLE_EMAIL = \"user@example.com\"  # Placeholder only\n",
    "EXAMPLE_SSN = \"***-**-****\"\n",
    "EXAMPLE_PHONE = \"555-555-5555\"\n",
    "\n",
    "# For real data, load from environment\n",
    "user_email = os.getenv(\"USER_EMAIL\", \"user@example.com\")\n",
    "\n",
    "# Never print PII in outputs"
   ]
  },
  {
   "cell_type": "markdown",
   "id": "59bbdb311c014d738909a11f9e486628",
   "metadata": {},
   "source": [
    "## 7. Secure Serialization\n",
    "\n",
    "✅ **GOOD**: Use JSON instead of pickle when possible"
   ]
  },
  {
   "cell_type": "code",
   "execution_count": null,
   "id": "b43b363d81ae4b689946ece5c682cd59",
   "metadata": {},
   "outputs": [],
   "source": [
    "import json\n",
    "\n",
    "# Safe serialization with JSON\n",
    "data = {\"model_params\": {\"lr\": 0.001, \"epochs\": 100}, \"metrics\": {\"accuracy\": 0.95, \"loss\": 0.05}}\n",
    "\n",
    "# Save safely\n",
    "with open(\"config.json\", \"w\") as f:\n",
    "    json.dump(data, f, indent=2)\n",
    "\n",
    "# Load safely\n",
    "with open(\"config.json\") as f:\n",
    "    loaded_data = json.load(f)"
   ]
  },
  {
   "cell_type": "markdown",
   "id": "8a65eabff63a45729fe45fb5ade58bdc",
   "metadata": {},
   "source": [
    "## 8. Input Validation\n",
    "\n",
    "✅ **GOOD**: Always validate user input"
   ]
  },
  {
   "cell_type": "code",
   "execution_count": null,
   "id": "c3933fab20d04ec698c2621248eb3be0",
   "metadata": {},
   "outputs": [],
   "source": [
    "import re\n",
    "\n",
    "\n",
    "def validate_email(email_addr: str) -> bool:\n",
    "    \"\"\"Validate email format.\"\"\"\n",
    "    pattern = r\"^[a-zA-Z0-9._%+-]+@[a-zA-Z0-9.-]+\\.[a-zA-Z]{2,}$\"\n",
    "    return bool(re.match(pattern, email_addr))\n",
    "\n",
    "\n",
    "def validate_age(age: int) -> bool:\n",
    "    \"\"\"Validate age range.\"\"\"\n",
    "    return 0 <= age <= 120\n",
    "\n",
    "\n",
    "def safe_eval(expression: str):\n",
    "    \"\"\"Safely evaluate literal expressions.\"\"\"\n",
    "    import ast\n",
    "\n",
    "    try:\n",
    "        return ast.literal_eval(expression)\n",
    "    except (ValueError, SyntaxError):\n",
    "        raise ValueError(\"Invalid expression - only literals allowed\")\n",
    "\n",
    "\n",
    "# Usage\n",
    "# email = input(\"Email: \")\n",
    "# if validate_email(email):\n",
    "#     print(\"Valid email\")\n",
    "\n",
    "# Safe evaluation of user input\n",
    "# result = safe_eval(\"[1, 2, 3]\")  # OK\n",
    "# result = safe_eval(\"__import__('os').system('ls')\")  # Raises ValueError"
   ]
  },
  {
   "cell_type": "markdown",
   "id": "4dd4641cc4064e0191573fe9c69df29b",
   "metadata": {},
   "source": [
    "## 9. Output Sanitization\n",
    "\n",
    "✅ **GOOD**: Clear sensitive outputs before sharing notebooks"
   ]
  },
  {
   "cell_type": "code",
   "execution_count": null,
   "id": "8309879909854d7188b41380fd92a7c3",
   "metadata": {},
   "outputs": [],
   "source": [
    "# Before sharing notebooks:\n",
    "# 1. Clear all outputs: Cell → All Output → Clear\n",
    "# 2. Or use command line:\n",
    "#    jupyter nbconvert --clear-output --inplace notebook.ipynb\n",
    "\n",
    "# For programmatic output clearing:\n",
    "from IPython.display import clear_output\n",
    "\n",
    "# Process sensitive data\n",
    "sensitive_result = \"secret data\"\n",
    "\n",
    "# Clear output before committing\n",
    "clear_output(wait=False)"
   ]
  },
  {
   "cell_type": "markdown",
   "id": "3ed186c9a28b402fb0bc4494df01f08d",
   "metadata": {},
   "source": [
    "## 10. Error Handling\n",
    "\n",
    "✅ **GOOD**: Handle errors gracefully without exposing sensitive information"
   ]
  },
  {
   "cell_type": "code",
   "execution_count": null,
   "id": "cb1e1581032b452c9409d6c6813c49d1",
   "metadata": {},
   "outputs": [],
   "source": [
    "# Mock function for demonstration\n",
    "def process_data(data):\n",
    "    \"\"\"Example data processing function.\"\"\"\n",
    "    return data\n",
    "\n",
    "\n",
    "def safe_operation(data):\n",
    "    \"\"\"Perform operation with secure error handling.\"\"\"\n",
    "    try:\n",
    "        # Process data\n",
    "        return process_data(data)\n",
    "    except ValueError:\n",
    "        # Log error without exposing sensitive details\n",
    "        # Don't expose full traceback or sensitive data\n",
    "        return None\n",
    "    except Exception:\n",
    "        # Generic error handling\n",
    "        return None\n",
    "\n",
    "\n",
    "# Don't do this:\n",
    "# try:\n",
    "#     result = api.call(api_key)\n",
    "# except Exception as e:\n",
    "#     print(f\"Error: {e}\")  # Might expose API key in error message!"
   ]
  },
  {
   "cell_type": "markdown",
   "id": "379cbbc1e968416e875cc15c1202d7eb",
   "metadata": {},
   "source": [
    "## Security Checklist Before Sharing Notebooks\n",
    "\n",
    "Before committing or sharing your notebook:\n",
    "\n",
    "- [ ] Clear all cell outputs\n",
    "- [ ] Remove hardcoded credentials\n",
    "- [ ] Remove PII (emails, SSNs, phone numbers, etc.)\n",
    "- [ ] Replace real data with example/placeholder values\n",
    "- [ ] Remove absolute file paths\n",
    "- [ ] Check for API keys in code or outputs\n",
    "- [ ] Verify no shell commands with sensitive data\n",
    "- [ ] Run PyGuard security scan\n",
    "- [ ] Review .gitignore for .env files\n",
    "- [ ] Test notebook runs from clean state\n",
    "\n",
    "## Run PyGuard Security Scan\n",
    "\n",
    "```bash\n",
    "# Scan this notebook for security issues\n",
    "python -c \"\n",
    "from pyguard.lib.notebook_security import scan_notebook\n",
    "issues = scan_notebook('secure_notebook_example.ipynb')\n",
    "print(f'Found {len(issues)} security issues')\n",
    "\"\n",
    "```\n",
    "\n",
    "Expected result: **0 issues** (this notebook follows all best practices!)"
   ]
  }
 ],
 "metadata": {
  "kernelspec": {
   "display_name": "Python 3",
   "language": "python",
   "name": "python3"
  },
  "language_info": {
   "name": "python",
   "version": "3.11.0"
  }
 },
 "nbformat": 4,
 "nbformat_minor": 5
}