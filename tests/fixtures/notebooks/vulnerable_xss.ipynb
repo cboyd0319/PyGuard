{
 "cells": [
  {
   "cell_type": "code",
   "execution_count": null,
   "metadata": {},
   "outputs": [],
   "source": [
    "from IPython.display import HTML, display\n",
    "\n",
    "# XSS vulnerability - user input rendered as HTML\n",
    "user_input = \"<script>alert('XSS')</script>\"\n",
    "display(HTML(user_input))\n",
    "\n",
    "# Another XSS vulnerability\n",
    "name = \"<img src=x onerror=alert('XSS')>\"\n",
    "display(HTML(f\"<h1>Welcome {name}</h1>\"))"
   ]
  }
 ],
 "metadata": {
  "kernelspec": {
   "display_name": "Python 3",
   "language": "python",
   "name": "python3"
  },
  "language_info": {
   "name": "python",
   "version": "3.11.0"
  }
 },
 "nbformat": 4,
 "nbformat_minor": 4
}
