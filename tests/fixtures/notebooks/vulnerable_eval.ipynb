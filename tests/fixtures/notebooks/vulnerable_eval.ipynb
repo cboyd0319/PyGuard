{
 "cells": [
  {
   "cell_type": "code",
   "execution_count": null,
   "metadata": {},
   "outputs": [],
   "source": [
    "# Vulnerable eval() usage\n",
    "user_input = \"1 + 1\"\n",
    "result = eval(user_input)"
   ]
  }
 ],
 "metadata": {
  "kernelspec": {
   "display_name": "Python 3",
   "language": "python",
   "name": "python3"
  },
  "language_info": {
   "name": "python",
   "version": "3.11.0"
  }
 },
 "nbformat": 4,
 "nbformat_minor": 4
}
